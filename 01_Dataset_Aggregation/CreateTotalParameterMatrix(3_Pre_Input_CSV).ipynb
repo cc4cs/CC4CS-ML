{
 "cells": [
  {
   "cell_type": "code",
   "execution_count": 2,
   "metadata": {},
   "outputs": [],
   "source": [
    "# Declarations\n",
    "import glob\n",
    "import json\n",
    "import os\n",
    "import numpy as np\n",
    "import pandas as pd\n",
    "import re\n",
    "\n",
    "from os.path import basename"
   ]
  },
  {
   "cell_type": "code",
   "execution_count": 3,
   "metadata": {},
   "outputs": [],
   "source": [
    "dfRDC = pd.read_csv(\"RangeValueClassification_tot.csv\", sep=';')\n",
    "del dfRDC['Unnamed: 0']"
   ]
  },
  {
   "cell_type": "code",
   "execution_count": 4,
   "metadata": {},
   "outputs": [],
   "source": [
    "dfRDC = pd.read_csv(\"RangeValueClassification_tot.csv\", sep=';')\n",
    "del dfRDC['Unnamed: 0']"
   ]
  },
  {
   "cell_type": "code",
   "execution_count": 8,
   "metadata": {},
   "outputs": [
    {
     "name": "stdout",
     "output_type": "stream",
     "text": [
      "60\n"
     ]
    }
   ],
   "source": [
    "nameFileH = []\n",
    "pathFileH = []\n",
    "rootFileH = []\n",
    "nameFileM = []\n",
    "pathFileM = []\n",
    "rootFileM = []\n",
    "nameFileS = []\n",
    "pathFileS = []\n",
    "rootFileS = []\n",
    "nameFileC = []\n",
    "pathFileC = []\n",
    "rootFileC = []\n",
    "nameFileA = []\n",
    "pathFileA = []\n",
    "rootFileA = []\n",
    "\n",
    "path = os.getcwd()\n",
    "for root, dirs, files in os.walk(path):\n",
    "    \n",
    "    for file in files:\n",
    "        if file.endswith(\"Size (1).csv\"):\n",
    "            nameFileA.append(file)\n",
    "            pathFileA.append(os.path.join(root, file))\n",
    "            rootFileA.append(root)\n",
    "        elif file.endswith(\"Halsted.csv\"):\n",
    "            nameFileH.append(file)\n",
    "            pathFileH.append(os.path.join(root, file))\n",
    "            rootFileH.append(root)\n",
    "        elif file.endswith(\"McCabe.csv\"):\n",
    "            nameFileM.append(file)\n",
    "            pathFileM.append(os.path.join(root, file))\n",
    "            rootFileM.append(root)\n",
    "        elif file.endswith(\"cStatements.csv\"):\n",
    "            nameFileS.append(file)\n",
    "            pathFileS.append(os.path.join(root, file))\n",
    "            rootFileS.append(root)\n",
    "        elif file.endswith(\"clockCycles.csv\"):\n",
    "            nameFileC.append(file)\n",
    "            pathFileC.append(os.path.join(root, file))\n",
    "            rootFileC.append(root)\n",
    "        \n",
    "#indR = nameFileC.index(\"ParMatrixclockCycles.csv\")\n",
    "#nameFileC.remove(\"ParMatrixclockCycles.csv\")\n",
    "#del pathFileC[indR]\n",
    "#del rootFileC[indR]"
   ]
  },
  {
   "cell_type": "code",
   "execution_count": 9,
   "metadata": {},
   "outputs": [
    {
     "name": "stdout",
     "output_type": "stream",
     "text": [
      "     inputName   text  data  bss     DEVICE   BOARD          FUNCTION  \\\n",
      "0          242   1004    12    7  armulator  ARMV4T  banker_algorithm   \n",
      "1          505   1076    61   28  armulator  ARMV4T  banker_algorithm   \n",
      "2          924   1112   820  403  armulator  ARMV4T  banker_algorithm   \n",
      "3          862   1004    36   19  armulator  ARMV4T  banker_algorithm   \n",
      "4          287   1004    12    7  armulator  ARMV4T  banker_algorithm   \n",
      "..         ...    ...   ...  ...        ...     ...               ...   \n",
      "995        595  11760   168  368       tsim   Leon3     selectionsort   \n",
      "996        968  11760   176  368       tsim   Leon3     selectionsort   \n",
      "997        503  11760   168  368       tsim   Leon3     selectionsort   \n",
      "998        378  11760   152  368       tsim   Leon3     selectionsort   \n",
      "999        610  11760   168  368       tsim   Leon3     selectionsort   \n",
      "\n",
      "    DATA_TYPE  \n",
      "0      int8_t  \n",
      "1      int8_t  \n",
      "2      int8_t  \n",
      "3      int8_t  \n",
      "4      int8_t  \n",
      "..        ...  \n",
      "995    int8_t  \n",
      "996    int8_t  \n",
      "997    int8_t  \n",
      "998    int8_t  \n",
      "999    int8_t  \n",
      "\n",
      "[64198 rows x 8 columns]\n"
     ]
    }
   ],
   "source": [
    "# size\n",
    "for i in range(0, len(pathFileA)):\n",
    "    path = pathFileA[i]\n",
    "    dfATemp = pd.read_csv(path, sep=',',engine='python')\n",
    "    if os.name == 'nt':\n",
    "        spR = rootFileA[i].split('\\\\')\n",
    "    else:\n",
    "        spR = rootFileA[i].split('/')\n",
    "    datatype = spR[-1]\n",
    "    device = spR[-5]\n",
    "    board = spR[-4]\n",
    "    function = spR[-2]\n",
    "    dfATemp['DEVICE'] = device\n",
    "    dfATemp['BOARD'] = board\n",
    "    dfATemp['FUNCTION'] = function\n",
    "    dfATemp['DATA_TYPE'] = datatype\n",
    "    dfATemp['inputName'] = dfATemp['inputName'].map(lambda x: x.lstrip('values_'))\n",
    "    dfATemp['inputName'] = dfATemp['inputName'].astype(int)\n",
    "    dfATemp.sort_values('inputName')\n",
    "    \n",
    "    if i == 0:\n",
    "        dfATot = dfATemp\n",
    "    else:\n",
    "        frames = [dfATot, dfATemp]\n",
    "        dfATot = pd.concat(frames)\n"
   ]
  },
  {
   "cell_type": "code",
   "execution_count": 10,
   "metadata": {},
   "outputs": [
    {
     "name": "stdout",
     "output_type": "stream",
     "text": [
      "     inputName  Total_Operands  DistinctOperands  ProgramLength  \\\n",
      "0          242            97.0              27.0          306.0   \n",
      "1          505           142.0              69.0          402.0   \n",
      "2          924           907.0             261.0         1962.0   \n",
      "3          862           123.0              52.0          362.0   \n",
      "4          287            97.0              27.0          306.0   \n",
      "..         ...             ...               ...            ...   \n",
      "995        595            72.0              33.0          249.0   \n",
      "996        968            77.0              37.0          262.0   \n",
      "997        503            69.0              30.0          236.0   \n",
      "998        378            54.0              17.0          203.0   \n",
      "999        610            71.0              33.0          244.0   \n",
      "\n",
      "     VocabularySize  ProgramVolume     Effort  ProgramLevel  DifficultyLevel  \\\n",
      "0              57.0        1784.86   96184.36          0.02            53.89   \n",
      "1              99.0        2665.00   82267.43          0.03            30.87   \n",
      "2             291.0       16058.73  837084.14          0.02            52.13   \n",
      "3              82.0        2301.43   81656.64          0.03            35.48   \n",
      "4              57.0        1784.86   96184.36          0.02            53.89   \n",
      "..              ...            ...        ...           ...              ...   \n",
      "995            59.0        1464.78   41546.43          0.04            28.36   \n",
      "996            63.0        1566.05   42367.93          0.04            27.05   \n",
      "997            56.0        1370.54   40979.02          0.03            29.90   \n",
      "998            43.0        1101.53   45486.78          0.02            41.29   \n",
      "999            59.0        1435.36   40146.72          0.04            27.97   \n",
      "\n",
      "     TimeToImplement  BugsDelivered     DEVICE   BOARD          FUNCTION  \\\n",
      "0            5343.58       0.594953  armulator  ARMV4T  banker_algorithm   \n",
      "1            4570.41       0.888333  armulator  ARMV4T  banker_algorithm   \n",
      "2           46504.67       5.352910  armulator  ARMV4T  banker_algorithm   \n",
      "3            4536.48       0.767143  armulator  ARMV4T  banker_algorithm   \n",
      "4            5343.58       0.594953  armulator  ARMV4T  banker_algorithm   \n",
      "..               ...            ...        ...     ...               ...   \n",
      "995          2308.14       0.488260       tsim   Leon3     selectionsort   \n",
      "996          2353.77       0.522017       tsim   Leon3     selectionsort   \n",
      "997          2276.61       0.456847       tsim   Leon3     selectionsort   \n",
      "998          2527.04       0.367177       tsim   Leon3     selectionsort   \n",
      "999          2230.37       0.478453       tsim   Leon3     selectionsort   \n",
      "\n",
      "    DATA_TYPE  TotalOperators  DistinctOperators UserError CAborted  \n",
      "0      int8_t             NaN                NaN       NaN      NaN  \n",
      "1      int8_t             NaN                NaN       NaN      NaN  \n",
      "2      int8_t             NaN                NaN       NaN      NaN  \n",
      "3      int8_t             NaN                NaN       NaN      NaN  \n",
      "4      int8_t             NaN                NaN       NaN      NaN  \n",
      "..        ...             ...                ...       ...      ...  \n",
      "995    int8_t           177.0               26.0       NaN      NaN  \n",
      "996    int8_t           185.0               26.0       NaN      NaN  \n",
      "997    int8_t           167.0               26.0       NaN      NaN  \n",
      "998    int8_t           149.0               26.0       NaN      NaN  \n",
      "999    int8_t           173.0               26.0       NaN      NaN  \n",
      "\n",
      "[60194 rows x 19 columns]\n"
     ]
    }
   ],
   "source": [
    "# Halsted file\n",
    "for i in range(0, len(pathFileH)):\n",
    "    path = pathFileH[i]\n",
    "    try:\n",
    "        dfHTemp = pd.read_csv(path, sep=',',engine='python')\n",
    "    except:\n",
    "        print(path)\n",
    "        \n",
    "    if os.name == 'nt':\n",
    "        spR = rootFileH[i].split('\\\\')\n",
    "    else:\n",
    "        spR = rootFileH[i].split('/')\n",
    "    datatype = spR[-1]\n",
    "    device = spR[-5]\n",
    "    board = spR[-4]\n",
    "    function = spR[-2]\n",
    "    dfHTemp['DEVICE'] = device\n",
    "    dfHTemp['BOARD'] = board\n",
    "    dfHTemp['FUNCTION'] = function\n",
    "    dfHTemp['DATA_TYPE'] = datatype\n",
    "    dfHTemp['inputName'] = dfHTemp['inputName'].map(lambda x: x.lstrip('values_'))\n",
    "    dfHTemp['inputName'] = dfHTemp['inputName'].astype(int)\n",
    "    dfHTemp.sort_values('inputName')\n",
    "    \n",
    "    if i == 0:\n",
    "        dfHTot = dfHTemp\n",
    "    else:\n",
    "        frames = [dfHTot, dfHTemp]\n",
    "        dfHTot = pd.concat(frames)\n",
    "        \n",
    "a = dfHTot['ProgramVolume']/3000\n",
    "a = a.values.tolist()\n",
    "dfHTot['BugsDelivered'] = a\n"
   ]
  },
  {
   "cell_type": "code",
   "execution_count": 11,
   "metadata": {},
   "outputs": [
    {
     "name": "stdout",
     "output_type": "stream",
     "text": [
      "     inputName  Sloc  DecisionPoint  GlobalVariables   If  Loop  Goto  \\\n",
      "0          242  38.0            6.0              7.0  6.0   4.0   1.0   \n",
      "1          505  38.0            6.0              7.0  6.0   4.0   1.0   \n",
      "2          924  38.0            6.0              7.0  6.0   4.0   1.0   \n",
      "3          862  38.0            6.0              7.0  6.0   4.0   1.0   \n",
      "4          287  38.0            6.0              7.0  6.0   4.0   1.0   \n",
      "..         ...   ...            ...              ...  ...   ...   ...   \n",
      "995        595  22.0            3.0              1.0  3.0   2.0   0.0   \n",
      "996        968  22.0            3.0              1.0  3.0   2.0   0.0   \n",
      "997        503  22.0            3.0              1.0  3.0   2.0   0.0   \n",
      "998        378  22.0            3.0              1.0  3.0   2.0   0.0   \n",
      "999        610  22.0            3.0              1.0  3.0   2.0   0.0   \n",
      "\n",
      "     Assignment  ExitPoint  Function  FunctionCall  PointerDereferencing  \\\n",
      "0          16.0        2.0       2.0           1.0                   0.0   \n",
      "1          16.0        2.0       2.0           1.0                   0.0   \n",
      "2          16.0        2.0       2.0           1.0                   0.0   \n",
      "3          16.0        2.0       2.0           1.0                   0.0   \n",
      "4          16.0        2.0       2.0           1.0                   0.0   \n",
      "..          ...        ...       ...           ...                   ...   \n",
      "995        11.0        2.0       2.0           1.0                   6.0   \n",
      "996        11.0        2.0       2.0           1.0                   6.0   \n",
      "997        11.0        2.0       2.0           1.0                   6.0   \n",
      "998        11.0        2.0       2.0           1.0                   6.0   \n",
      "999        11.0        2.0       2.0           1.0                   6.0   \n",
      "\n",
      "     CyclomaticComplexity     DEVICE   BOARD          FUNCTION DATA_TYPE  \n",
      "0                     8.0  armulator  ARMV4T  banker_algorithm    int8_t  \n",
      "1                     8.0  armulator  ARMV4T  banker_algorithm    int8_t  \n",
      "2                     8.0  armulator  ARMV4T  banker_algorithm    int8_t  \n",
      "3                     8.0  armulator  ARMV4T  banker_algorithm    int8_t  \n",
      "4                     8.0  armulator  ARMV4T  banker_algorithm    int8_t  \n",
      "..                    ...        ...     ...               ...       ...  \n",
      "995                   5.0       tsim   Leon3     selectionsort    int8_t  \n",
      "996                   5.0       tsim   Leon3     selectionsort    int8_t  \n",
      "997                   5.0       tsim   Leon3     selectionsort    int8_t  \n",
      "998                   5.0       tsim   Leon3     selectionsort    int8_t  \n",
      "999                   5.0       tsim   Leon3     selectionsort    int8_t  \n",
      "\n",
      "[60194 rows x 17 columns]\n"
     ]
    }
   ],
   "source": [
    "# McCabe file\n",
    "for i in range(0, len(pathFileM)):\n",
    "    path = pathFileM[i]\n",
    "    dfMTemp = pd.read_csv(path, sep=',',engine='python')\n",
    "\n",
    "    if os.name == 'nt':\n",
    "        spR = rootFileM[i].split('\\\\')\n",
    "    else:\n",
    "        spR = rootFileM[i].split('/')\n",
    "    datatype = spR[-1]\n",
    "    device = spR[-5]\n",
    "    board = spR[-4]\n",
    "    function = spR[-2]\n",
    "    dfMTemp['DEVICE'] = device\n",
    "    dfMTemp['BOARD'] = board\n",
    "    dfMTemp['FUNCTION'] = function\n",
    "    dfMTemp['DATA_TYPE'] = datatype\n",
    "    dfMTemp['inputName'] = dfMTemp['inputName'].map(lambda x: x.lstrip('values_'))\n",
    "    dfMTemp['inputName'] = dfMTemp['inputName'].astype(int)\n",
    "    dfMTemp.sort_values('inputName')\n",
    "    \n",
    "    if i == 0:\n",
    "        dfMTot = dfMTemp\n",
    "    else:\n",
    "        frames = [dfMTot, dfMTemp]\n",
    "        dfMTot = pd.concat(frames)\n"
   ]
  },
  {
   "cell_type": "code",
   "execution_count": 13,
   "metadata": {},
   "outputs": [],
   "source": [
    "# cStatement file\n",
    "for i in range(0, len(pathFileS)):\n",
    "    path = pathFileS[i]\n",
    "    dfSTemp = pd.read_csv(path, sep=',',engine='python')\n",
    "    \n",
    "    if os.name == 'nt':\n",
    "        spR = rootFileS[i].split('\\\\')\n",
    "    else:\n",
    "        spR = rootFileS[i].split('/')\n",
    "    datatype = spR[-1]\n",
    "    device = spR[-5]\n",
    "    board = spR[-4]\n",
    "    function = spR[-2]\n",
    "    dfSTemp['DEVICE'] = device\n",
    "    dfSTemp['BOARD'] = board\n",
    "    dfSTemp['FUNCTION'] = function\n",
    "    dfSTemp['DATA_TYPE'] = datatype\n",
    "    dfSTemp['id'] = dfSTemp['id'].map(lambda x: x.lstrip('values_'))\n",
    "    dfSTemp['id'] = dfSTemp['id'].astype(int)\n",
    "    dfSTemp.sort_values('id')\n",
    "    \n",
    "    if i == 0:\n",
    "        dfSTot = dfSTemp\n",
    "    else:\n",
    "        frames = [dfSTot, dfSTemp]\n",
    "        dfSTot = pd.concat(frames)\n"
   ]
  },
  {
   "cell_type": "code",
   "execution_count": 14,
   "metadata": {},
   "outputs": [],
   "source": [
    "# clockCycle file\n",
    "for i in range(0, len(pathFileC)):\n",
    "    path = pathFileC[i]\n",
    "    dfCTemp = pd.read_csv(path, sep=',',engine='python')\n",
    "    \n",
    "    if os.name == 'nt':\n",
    "        spR = rootFileC[i].split('\\\\')\n",
    "    else:\n",
    "        spR = rootFileC[i].split('/')\n",
    "    datatype = spR[-1]\n",
    "    device = spR[-5]\n",
    "    board = spR[-4]\n",
    "    function = spR[-2]\n",
    "    dfCTemp['DEVICE'] = device\n",
    "    dfCTemp['BOARD'] = board\n",
    "    dfCTemp['FUNCTION'] = function\n",
    "    dfCTemp['DATA_TYPE'] = datatype\n",
    "    dfCTemp['id'] = dfCTemp['id'].map(lambda x: x.lstrip('values_'))\n",
    "    dfCTemp['id'] = dfCTemp['id'].astype(int)\n",
    "    dfCTemp.sort_values('id')\n",
    "    \n",
    "    if i == 0:\n",
    "        dfCTot = dfCTemp\n",
    "    else:\n",
    "        frames = [dfCTot, dfCTemp]\n",
    "        dfCTot = pd.concat(frames)"
   ]
  },
  {
   "cell_type": "code",
   "execution_count": null,
   "metadata": {},
   "outputs": [],
   "source": []
  },
  {
   "cell_type": "code",
   "execution_count": 15,
   "metadata": {},
   "outputs": [],
   "source": [
    "dfHTot = dfHTot.reset_index(drop=True)\n",
    "dfMTot = dfMTot.reset_index(drop=True)\n",
    "dfSTot = dfSTot.reset_index(drop=True)\n",
    "dfCTot = dfCTot.reset_index(drop=True)\n",
    "dfATot = dfATot.reset_index(drop=True)"
   ]
  },
  {
   "cell_type": "code",
   "execution_count": 16,
   "metadata": {},
   "outputs": [],
   "source": [
    "dfATot.to_csv(\"dfA.csv\", sep=';')\n",
    "dfATot.to_csv(\"dfA_tot.csv\", sep=';')"
   ]
  },
  {
   "cell_type": "code",
   "execution_count": 17,
   "metadata": {},
   "outputs": [],
   "source": [
    "columnsH = ['DEVICE', 'BOARD', 'FUNCTION', 'DATA_TYPE', \n",
    "            'Total_Operands', 'DistinctOperands', 'ProgramLength', 'ProgramLevel','VocabularySize', 'ProgramVolume', \n",
    "            'Effort','ProgramLevel','DifficultyLevel','TimeToImplement', 'BugsDelivered' \n",
    "            ]\n",
    "columnsM = ['DEVICE', 'BOARD', 'FUNCTION', 'DATA_TYPE', 'Sloc', 'DecisionPoint', 'GlobalVariables', \n",
    "            'If', 'Loop', 'Goto', 'Assignment', 'ExitPoint', 'Function', 'FunctionCall', \n",
    "            'PointerDereferencing', 'CyclomaticComplexity']#, 'SyntacticallyReachableFunctions', \n",
    "            #'SemanticallyReachedFunctions', 'CoverageEstimation']\n",
    "columnsS = ['DEVICE', 'BOARD', 'FUNCTION', 'DATA_TYPE','id','cInstr']\n",
    "columnsC = ['DEVICE', 'BOARD', 'FUNCTION', 'DATA_TYPE','id','clockCycles', 'assemblyInstr']\n",
    "columnsA = ['DEVICE', 'BOARD', 'FUNCTION', 'DATA_TYPE','inputName','text','data','bss']#,'Clock_Cycles',]\n"
   ]
  },
  {
   "cell_type": "code",
   "execution_count": 18,
   "metadata": {},
   "outputs": [],
   "source": [
    "dfHTot = dfHTot[columnsH]\n",
    "dfMTot = dfMTot[columnsM]\n",
    "dfSTot = dfSTot[columnsS]\n",
    "dfCTot = dfCTot[columnsC]\n",
    "dfATot = dfATot[columnsA]"
   ]
  },
  {
   "cell_type": "code",
   "execution_count": 19,
   "metadata": {},
   "outputs": [],
   "source": [
    "dfATot.to_csv(\"dfA.csv\", sep=';')"
   ]
  },
  {
   "cell_type": "code",
   "execution_count": 20,
   "metadata": {},
   "outputs": [],
   "source": [
    "dfATot.to_csv(\"dfA_tot.csv\", sep=';')"
   ]
  },
  {
   "cell_type": "code",
   "execution_count": 21,
   "metadata": {},
   "outputs": [],
   "source": [
    "dfPar1 = dfHTot.assign(**dfMTot)\n",
    "dfPar2 = dfPar1.assign(**dfSTot)\n",
    "dfPar3 = dfPar2.assign(**dfCTot)\n",
    "dfPar4 = dfPar3.assign(**dfATot)"
   ]
  },
  {
   "cell_type": "code",
   "execution_count": 24,
   "metadata": {},
   "outputs": [
    {
     "name": "stdout",
     "output_type": "stream",
     "text": [
      "          DEVICE   BOARD          FUNCTION DATA_TYPE   id  Total_Operands  \\\n",
      "0      armulator  ARMV4T  banker_algorithm    int8_t  242            97.0   \n",
      "1      armulator  ARMV4T  banker_algorithm    int8_t  505           142.0   \n",
      "2      armulator  ARMV4T  banker_algorithm    int8_t  924           907.0   \n",
      "3      armulator  ARMV4T  banker_algorithm    int8_t  862           123.0   \n",
      "4      armulator  ARMV4T  banker_algorithm    int8_t  287            97.0   \n",
      "...          ...     ...               ...       ...  ...             ...   \n",
      "60189       tsim   Leon3         mergesort    int8_t  595            72.0   \n",
      "60190       tsim   Leon3         mergesort    int8_t  968            77.0   \n",
      "60191       tsim   Leon3         mergesort    int8_t  503            69.0   \n",
      "60192       tsim   Leon3         mergesort    int8_t  378            54.0   \n",
      "60193       tsim   Leon3         mergesort    int8_t  610            71.0   \n",
      "\n",
      "       DistinctOperands  ProgramLength  VocabularySize  ProgramVolume  ...  \\\n",
      "0                  27.0          306.0            57.0        1784.86  ...   \n",
      "1                  69.0          402.0            99.0        2665.00  ...   \n",
      "2                 261.0         1962.0           291.0       16058.73  ...   \n",
      "3                  52.0          362.0            82.0        2301.43  ...   \n",
      "4                  27.0          306.0            57.0        1784.86  ...   \n",
      "...                 ...            ...             ...            ...  ...   \n",
      "60189              33.0          249.0            59.0        1464.78  ...   \n",
      "60190              37.0          262.0            63.0        1566.05  ...   \n",
      "60191              30.0          236.0            56.0        1370.54  ...   \n",
      "60192              17.0          203.0            43.0        1101.53  ...   \n",
      "60193              33.0          244.0            59.0        1435.36  ...   \n",
      "\n",
      "       NUM_SI  RANGE_SI  NUM_ARR  RANGE_ARR  cInstr  assemblyInstr  \\\n",
      "0         1.0       3.0      3.0        0.0      32          513.0   \n",
      "1         1.0       3.0      3.0        0.0      71         1716.0   \n",
      "2         1.0       3.0      3.0        0.0     884        25965.0   \n",
      "3         1.0       3.0      3.0        0.0      51         1058.0   \n",
      "4         1.0       3.0      3.0        0.0      23          380.0   \n",
      "...       ...       ...      ...        ...     ...            ...   \n",
      "60189     1.0       3.0      1.0        1.0    7462         3473.0   \n",
      "60190     1.0       3.0      1.0        1.0    1726        10715.0   \n",
      "60191     1.0       3.0      1.0        1.0    4934         1951.0   \n",
      "60192     1.0       3.0      1.0        1.0    6111        36224.0   \n",
      "60193     1.0       3.0      1.0        1.0     559        53756.0   \n",
      "\n",
      "       clockCycles   text  data  bss  \n",
      "0           1021.0   1004    12    7  \n",
      "1           3164.0   1076    61   28  \n",
      "2          46279.0   1112   820  403  \n",
      "3           2052.0   1004    36   19  \n",
      "4            754.0   1004    12    7  \n",
      "...            ...    ...   ...  ...  \n",
      "60189       6894.0  12592   152  368  \n",
      "60190      16104.0  12608   160  368  \n",
      "60191       4928.0  12624   176  368  \n",
      "60192      48857.0  12592   152  368  \n",
      "60193      70425.0  12592   152  368  \n",
      "\n",
      "[60194 rows x 40 columns]\n"
     ]
    }
   ],
   "source": [
    "dfTot = pd.merge(dfPar4,dfRDC,how='left',on=['DEVICE','BOARD','FUNCTION','DATA_TYPE'])\n",
    "#dfTot = pd.merge(dfPar4,dfRDC,how='left',on=['DEVICE','BOARD','FUNCTION','DATA_TYPE','ID_VAL'])\n",
    "columnsTot = ['DEVICE', 'BOARD', 'FUNCTION', 'DATA_TYPE',\n",
    "              'id','Total_Operands', 'DistinctOperands', 'ProgramLength','VocabularySize', 'ProgramVolume', \n",
    "            'Effort','ProgramLevel','DifficultyLevel','TimeToImplement', 'BugsDelivered' , 'Sloc', 'DecisionPoint','GlobalVariables', \n",
    "              'If', 'Loop', 'Goto', 'Assignment', 'ExitPoint',\n",
    "              'Function', 'FunctionCall', 'PointerDereferencing','CyclomaticComplexity', \n",
    "              #'SyntacticallyReachableFunctions','SemanticallyReachedFunctions', 'CoverageEstimation', \n",
    "              'NUM_S', 'RANGE_S', 'NUM_SI','RANGE_SI', 'NUM_ARR', 'RANGE_ARR',\n",
    "              'cInstr', 'assemblyInstr',\n",
    "              'clockCycles','text','data','bss'] # E' UN OUTPUT\n",
    "              #'DSP','BRAM','Flip_Flop','Area','min_Slack','Max_Freq',   # COLONNE PRESENTI SOLO CON BAMBU (HW) E SONOI OUPUT, CAMBIANO PER SW\n",
    "              #, 'cc4cs'] # DA CALCOLARE\n",
    "dfTot = dfTot[columnsTot]\n",
    "print(dfTot)"
   ]
  },
  {
   "cell_type": "code",
   "execution_count": 25,
   "metadata": {},
   "outputs": [],
   "source": [
    "dfTot['CC4CS'] = (dfTot['clockCycles'].astype('float64')).div(dfTot['cInstr'].astype('float64')).replace(np.inf,0)"
   ]
  },
  {
   "cell_type": "code",
   "execution_count": 26,
   "metadata": {},
   "outputs": [],
   "source": [
    "dfTot.rename(columns={'id':'ID_VAL',\n",
    "                      'NUM_S':'SCALAR_INPUT',\n",
    "                      'RANGE_S':'RANGE_SCALAR_VALUES',\n",
    "                      'NUM_SI':'SCALAR_INDEX_INPUT',\n",
    "                      'RANGE_SI':'RANGE_SCALAR_INDEX_VALUES',\n",
    "                      'NUM_ARR':'ARRAY_INPUT',\n",
    "                      'RANGE_ARR':'RANGE_ARRAY_INPUT'}, inplace=True)"
   ]
  },
  {
   "cell_type": "code",
   "execution_count": 27,
   "metadata": {},
   "outputs": [],
   "source": [
    "dfTot.to_csv(\"TotalParameterMatrix.csv\", sep=';')"
   ]
  },
  {
   "cell_type": "code",
   "execution_count": null,
   "metadata": {},
   "outputs": [],
   "source": []
  },
  {
   "cell_type": "code",
   "execution_count": 28,
   "metadata": {},
   "outputs": [],
   "source": [
    "dfBamb = dfTot.loc[(dfTot['DEVICE'] == 'armulator')]\n",
    "dfBamb.to_csv(\"TotalParameterMatrixArmulator.csv\", sep=';')\n",
    "dfBamb = dfTot.loc[(dfTot['DEVICE'] == 'tsim')]\n",
    "dfBamb.to_csv(\"TotalParameterMatrixTsim.csv\", sep=';')\n",
    "dfBamb = dfTot.loc[(dfTot['DEVICE'] == 'simulavr')]\n",
    "dfBamb.to_csv(\"TotalParameterMatrixSimulavr.csv\", sep=';')\n",
    "dfBamb = dfTot.loc[(dfTot['DEVICE'] == 'thumbulator')]\n",
    "dfBamb.to_csv(\"TotalParameterMatrixThumbulator.csv\", sep=';')"
   ]
  },
  {
   "cell_type": "code",
   "execution_count": null,
   "metadata": {},
   "outputs": [],
   "source": []
  },
  {
   "cell_type": "code",
   "execution_count": null,
   "metadata": {},
   "outputs": [],
   "source": []
  },
  {
   "cell_type": "code",
   "execution_count": null,
   "metadata": {},
   "outputs": [],
   "source": []
  },
  {
   "cell_type": "code",
   "execution_count": null,
   "metadata": {},
   "outputs": [],
   "source": []
  },
  {
   "cell_type": "code",
   "execution_count": null,
   "metadata": {},
   "outputs": [],
   "source": []
  }
 ],
 "metadata": {
  "kernelspec": {
   "display_name": "Python 3 (ipykernel)",
   "language": "python",
   "name": "python3"
  },
  "language_info": {
   "codemirror_mode": {
    "name": "ipython",
    "version": 3
   },
   "file_extension": ".py",
   "mimetype": "text/x-python",
   "name": "python",
   "nbconvert_exporter": "python",
   "pygments_lexer": "ipython3",
   "version": "3.9.13"
  }
 },
 "nbformat": 4,
 "nbformat_minor": 4
}
