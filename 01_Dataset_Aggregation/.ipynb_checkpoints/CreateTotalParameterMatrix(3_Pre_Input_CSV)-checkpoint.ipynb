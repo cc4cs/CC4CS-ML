{
 "cells": [
  {
   "cell_type": "code",
   "execution_count": 55,
   "metadata": {},
   "outputs": [],
   "source": [
    "# Declarations\n",
    "import glob\n",
    "import json\n",
    "import os\n",
    "import numpy as np\n",
    "import pandas as pd\n",
    "import re\n",
    "\n",
    "from os.path import basename"
   ]
  },
  {
   "cell_type": "code",
   "execution_count": 56,
   "metadata": {},
   "outputs": [],
   "source": [
    "dfRDC = pd.read_csv(\"RangeValueClassification_tot.csv\", sep=';')\n",
    "del dfRDC['Unnamed: 0']"
   ]
  },
  {
   "cell_type": "code",
   "execution_count": 57,
   "metadata": {},
   "outputs": [],
   "source": [
    "dfRDC = pd.read_csv(\"RangeValueClassification_tot.csv\", sep=';')\n",
    "del dfRDC['Unnamed: 0']"
   ]
  },
  {
   "cell_type": "code",
   "execution_count": 58,
   "metadata": {},
   "outputs": [],
   "source": [
    "nameFileH = []\n",
    "pathFileH = []\n",
    "rootFileH = []\n",
    "nameFileM = []\n",
    "pathFileM = []\n",
    "rootFileM = []\n",
    "nameFileS = []\n",
    "pathFileS = []\n",
    "rootFileS = []\n",
    "nameFileC = []\n",
    "pathFileC = []\n",
    "rootFileC = []\n",
    "nameFileA = []\n",
    "pathFileA = []\n",
    "rootFileA = []\n",
    "\n",
    "path = os.getcwd()\n",
    "for root, dirs, files in os.walk(path):\n",
    "    for file in files:\n",
    "        if file.endswith(\"Size (1).csv\"):\n",
    "            nameFileA.append(file)\n",
    "            pathFileA.append(os.path.join(root, file))\n",
    "            rootFileA.append(root)\n",
    "        elif file.endswith(\"Halsted.csv\"):\n",
    "            nameFileH.append(file)\n",
    "            pathFileH.append(os.path.join(root, file))\n",
    "            rootFileH.append(root)\n",
    "        elif file.endswith(\"McCabe.csv\"):\n",
    "            nameFileM.append(file)\n",
    "            pathFileM.append(os.path.join(root, file))\n",
    "            rootFileM.append(root)\n",
    "        elif file.endswith(\"cStatements.csv\"):\n",
    "            nameFileS.append(file)\n",
    "            pathFileS.append(os.path.join(root, file))\n",
    "            rootFileS.append(root)\n",
    "        elif file.endswith(\"clockCycles.csv\"):\n",
    "            nameFileC.append(file)\n",
    "            pathFileC.append(os.path.join(root, file))\n",
    "            rootFileC.append(root)\n",
    "        \n",
    "            \n",
    "#indR = nameFileC.index(\"ParMatrixclockCycles.csv\")\n",
    "#nameFileC.remove(\"ParMatrixclockCycles.csv\")\n",
    "#del pathFileC[indR]\n",
    "#del rootFileC[indR]"
   ]
  },
  {
   "cell_type": "code",
   "execution_count": 59,
   "metadata": {},
   "outputs": [],
   "source": [
    "# size\n",
    "for i in range(0, len(pathFileA)):\n",
    "    path = pathFileA[i]\n",
    "    dfATemp = pd.read_csv(path, sep=',',engine='python')\n",
    "    if os.name == 'nt':\n",
    "        spR = rootFileA[i].split('\\\\')\n",
    "    else:\n",
    "        spR = rootFileA[i].split('/')\n",
    "    datatype = spR[-1]\n",
    "    device = spR[-5]\n",
    "    board = spR[-4]\n",
    "    function = spR[-2]\n",
    "    dfATemp['DEVICE'] = device\n",
    "    dfATemp['BOARD'] = board\n",
    "    dfATemp['FUNCTION'] = function\n",
    "    dfATemp['DATA_TYPE'] = datatype\n",
    "    dfATemp['inputName'] = dfATemp['inputName'].map(lambda x: x.lstrip('values_'))\n",
    "    dfATemp['inputName'] = dfATemp['inputName'].astype(int)\n",
    "    dfATemp.sort_values('inputName')\n",
    "    \n",
    "    if i == 0:\n",
    "        dfATot = dfATemp\n",
    "    else:\n",
    "        frames = [dfATot, dfATemp]\n",
    "        dfATot = pd.concat(frames)\n"
   ]
  },
  {
   "cell_type": "code",
   "execution_count": 60,
   "metadata": {},
   "outputs": [],
   "source": [
    "# Halsted file\n",
    "for i in range(0, len(pathFileH)):\n",
    "    path = pathFileH[i]\n",
    "    try:\n",
    "        dfHTemp = pd.read_csv(path, sep=',',engine='python')\n",
    "    except:\n",
    "        print(path)\n",
    "        \n",
    "    if os.name == 'nt':\n",
    "        spR = rootFileH[i].split('\\\\')\n",
    "    else:\n",
    "        spR = rootFileH[i].split('/')\n",
    "    datatype = spR[-1]\n",
    "    device = spR[-5]\n",
    "    board = spR[-4]\n",
    "    function = spR[-2]\n",
    "    dfHTemp['DEVICE'] = device\n",
    "    dfHTemp['BOARD'] = board\n",
    "    dfHTemp['FUNCTION'] = function\n",
    "    dfHTemp['DATA_TYPE'] = datatype\n",
    "    dfHTemp['inputName'] = dfHTemp['inputName'].map(lambda x: x.lstrip('values_'))\n",
    "    dfHTemp['inputName'] = dfHTemp['inputName'].astype(int)\n",
    "    dfHTemp.sort_values('inputName')\n",
    "    \n",
    "    if i == 0:\n",
    "        dfHTot = dfHTemp\n",
    "    else:\n",
    "        frames = [dfHTot, dfHTemp]\n",
    "        dfHTot = pd.concat(frames)\n",
    "        \n",
    "a = dfHTot['ProgramVolume']/3000\n",
    "a = a.values.tolist()\n",
    "dfHTot['BugsDelivered'] = a"
   ]
  },
  {
   "cell_type": "code",
   "execution_count": 61,
   "metadata": {},
   "outputs": [],
   "source": [
    "# McCabe file\n",
    "for i in range(0, len(pathFileM)):\n",
    "    path = pathFileM[i]\n",
    "    dfMTemp = pd.read_csv(path, sep=',',engine='python')\n",
    "\n",
    "    if os.name == 'nt':\n",
    "        spR = rootFileM[i].split('\\\\')\n",
    "    else:\n",
    "        spR = rootFileM[i].split('/')\n",
    "    datatype = spR[-1]\n",
    "    device = spR[-5]\n",
    "    board = spR[-4]\n",
    "    function = spR[-2]\n",
    "    dfMTemp['DEVICE'] = device\n",
    "    dfMTemp['BOARD'] = board\n",
    "    dfMTemp['FUNCTION'] = function\n",
    "    dfMTemp['DATA_TYPE'] = datatype\n",
    "    dfMTemp['inputName'] = dfMTemp['inputName'].map(lambda x: x.lstrip('values_'))\n",
    "    dfMTemp['inputName'] = dfMTemp['inputName'].astype(int)\n",
    "    dfMTemp.sort_values('inputName')\n",
    "    \n",
    "    if i == 0:\n",
    "        dfMTot = dfMTemp\n",
    "    else:\n",
    "        frames = [dfMTot, dfMTemp]\n",
    "        dfMTot = pd.concat(frames)"
   ]
  },
  {
   "cell_type": "code",
   "execution_count": 62,
   "metadata": {},
   "outputs": [],
   "source": [
    "# cStatement file\n",
    "for i in range(0, len(pathFileS)):\n",
    "    path = pathFileS[i]\n",
    "    dfSTemp = pd.read_csv(path, sep=',',engine='python')\n",
    "    \n",
    "    if os.name == 'nt':\n",
    "        spR = rootFileS[i].split('\\\\')\n",
    "    else:\n",
    "        spR = rootFileS[i].split('/')\n",
    "    datatype = spR[-1]\n",
    "    device = spR[-5]\n",
    "    board = spR[-4]\n",
    "    function = spR[-2]\n",
    "    dfSTemp['DEVICE'] = device\n",
    "    dfSTemp['BOARD'] = board\n",
    "    dfSTemp['FUNCTION'] = function\n",
    "    dfSTemp['DATA_TYPE'] = datatype\n",
    "    dfSTemp['id'] = dfSTemp['id'].map(lambda x: x.lstrip('values_'))\n",
    "    dfSTemp['id'] = dfSTemp['id'].astype(int)\n",
    "    dfSTemp.sort_values('id')\n",
    "    \n",
    "    if i == 0:\n",
    "        dfSTot = dfSTemp\n",
    "    else:\n",
    "        frames = [dfSTot, dfSTemp]\n",
    "        dfSTot = pd.concat(frames)"
   ]
  },
  {
   "cell_type": "code",
   "execution_count": 63,
   "metadata": {},
   "outputs": [],
   "source": [
    "# clockCycle file\n",
    "for i in range(0, len(pathFileC)):\n",
    "    path = pathFileC[i]\n",
    "    dfCTemp = pd.read_csv(path, sep=',',engine='python')\n",
    "    \n",
    "    if os.name == 'nt':\n",
    "        spR = rootFileC[i].split('\\\\')\n",
    "    else:\n",
    "        spR = rootFileC[i].split('/')\n",
    "    datatype = spR[-1]\n",
    "    device = spR[-5]\n",
    "    board = spR[-4]\n",
    "    function = spR[-2]\n",
    "    dfCTemp['DEVICE'] = device\n",
    "    dfCTemp['BOARD'] = board\n",
    "    dfCTemp['FUNCTION'] = function\n",
    "    dfCTemp['DATA_TYPE'] = datatype\n",
    "    dfCTemp['id'] = dfCTemp['id'].map(lambda x: x.lstrip('values_'))\n",
    "    dfCTemp['id'] = dfCTemp['id'].astype(int)\n",
    "    dfCTemp.sort_values('id')\n",
    "    \n",
    "    if i == 0:\n",
    "        dfCTot = dfCTemp\n",
    "    else:\n",
    "        frames = [dfCTot, dfCTemp]\n",
    "        dfCTot = pd.concat(frames)"
   ]
  },
  {
   "cell_type": "code",
   "execution_count": null,
   "metadata": {},
   "outputs": [],
   "source": []
  },
  {
   "cell_type": "code",
   "execution_count": 64,
   "metadata": {},
   "outputs": [],
   "source": [
    "dfHTot = dfHTot.reset_index(drop=True)\n",
    "dfMTot = dfMTot.reset_index(drop=True)\n",
    "dfSTot = dfSTot.reset_index(drop=True)\n",
    "dfCTot = dfCTot.reset_index(drop=True)\n",
    "dfATot = dfATot.reset_index(drop=True)"
   ]
  },
  {
   "cell_type": "code",
   "execution_count": 65,
   "metadata": {},
   "outputs": [],
   "source": [
    "dfATot.to_csv(\"dfA.csv\", sep=';')\n",
    "dfATot.to_csv(\"dfA_tot.csv\", sep=';')"
   ]
  },
  {
   "cell_type": "code",
   "execution_count": 66,
   "metadata": {},
   "outputs": [],
   "source": [
    "columnsH = ['DEVICE', 'BOARD', 'FUNCTION', 'DATA_TYPE', \n",
    "            'Total_Operands', 'DistinctOperands', 'ProgramLength', 'ProgramLevel','VocabularySize', 'ProgramVolume', \n",
    "            'Effort','ProgramLevel','DifficultyLevel','TimeToImplement', 'BugsDelivered' \n",
    "            ]\n",
    "columnsM = ['DEVICE', 'BOARD', 'FUNCTION', 'DATA_TYPE', 'Sloc', 'DecisionPoint', 'GlobalVariables', \n",
    "            'If', 'Loop', 'Goto', 'Assignment', 'ExitPoint', 'Function', 'FunctionCall', \n",
    "            'PointerDereferencing', 'CyclomaticComplexity']#, 'SyntacticallyReachableFunctions', \n",
    "            #'SemanticallyReachedFunctions', 'CoverageEstimation']\n",
    "columnsS = ['DEVICE', 'BOARD', 'FUNCTION', 'DATA_TYPE','id','cInstr']\n",
    "columnsC = ['DEVICE', 'BOARD', 'FUNCTION', 'DATA_TYPE','id','clockCycles', 'assemblyInstr']\n",
    "columnsA = ['DEVICE', 'BOARD', 'FUNCTION', 'DATA_TYPE','inputName','text','data','bss']#,'Clock_Cycles',]\n"
   ]
  },
  {
   "cell_type": "code",
   "execution_count": 67,
   "metadata": {},
   "outputs": [],
   "source": [
    "dfHTot = dfHTot[columnsH]\n",
    "dfMTot = dfMTot[columnsM]\n",
    "dfSTot = dfSTot[columnsS]\n",
    "dfCTot = dfCTot[columnsC]\n",
    "dfATot = dfATot[columnsA]"
   ]
  },
  {
   "cell_type": "code",
   "execution_count": 68,
   "metadata": {},
   "outputs": [],
   "source": [
    "dfATot.to_csv(\"dfA.csv\", sep=';')"
   ]
  },
  {
   "cell_type": "code",
   "execution_count": 69,
   "metadata": {},
   "outputs": [],
   "source": [
    "dfATot.to_csv(\"dfA_tot.csv\", sep=';')"
   ]
  },
  {
   "cell_type": "code",
   "execution_count": 70,
   "metadata": {},
   "outputs": [],
   "source": [
    "dfPar1 = dfHTot.assign(**dfMTot)\n",
    "dfPar2 = dfPar1.assign(**dfSTot)\n",
    "dfPar3 = dfPar2.assign(**dfCTot)\n",
    "dfPar4 = dfPar3.assign(**dfATot)"
   ]
  },
  {
   "cell_type": "code",
   "execution_count": 71,
   "metadata": {},
   "outputs": [],
   "source": [
    "dfTot = pd.merge(dfPar4,dfRDC,how='left',on=['DEVICE','BOARD','FUNCTION','DATA_TYPE'])\n",
    "#dfTot = pd.merge(dfPar4,dfRDC,how='left',on=['DEVICE','BOARD','FUNCTION','DATA_TYPE','ID_VAL'])\n",
    "columnsTot = ['DEVICE', 'BOARD', 'FUNCTION', 'DATA_TYPE',\n",
    "              'id','Total_Operands', 'DistinctOperands', 'ProgramLength', 'ProgramLevel','VocabularySize', 'ProgramVolume', \n",
    "            'Effort','ProgramLevel','DifficultyLevel','TimeToImplement', 'BugsDelivered' , 'Sloc', 'DecisionPoint','GlobalVariables', \n",
    "              'If', 'Loop', 'Goto', 'Assignment', 'ExitPoint',\n",
    "              'Function', 'FunctionCall', 'PointerDereferencing','CyclomaticComplexity', \n",
    "              #'SyntacticallyReachableFunctions','SemanticallyReachedFunctions', 'CoverageEstimation', \n",
    "              'NUM_S', 'RANGE_S', 'NUM_SI','RANGE_SI', 'NUM_ARR', 'RANGE_ARR',\n",
    "              'cInstr', 'assemblyInstr',\n",
    "              'clockCycles','text','data','bss'] # E' UN OUTPUT\n",
    "              #'DSP','BRAM','Flip_Flop','Area','min_Slack','Max_Freq',   # COLONNE PRESENTI SOLO CON BAMBU (HW) E SONOI OUPUT, CAMBIANO PER SW\n",
    "              #, 'cc4cs'] # DA CALCOLARE\n",
    "dfTot = dfTot[columnsTot]"
   ]
  },
  {
   "cell_type": "code",
   "execution_count": 72,
   "metadata": {},
   "outputs": [],
   "source": [
    "dfTot['CC4CS'] = (dfTot['clockCycles'].astype('float64')).div(dfTot['cInstr'].astype('float64')).replace(np.inf,0)"
   ]
  },
  {
   "cell_type": "code",
   "execution_count": 73,
   "metadata": {},
   "outputs": [],
   "source": [
    "dfTot.rename(columns={'id':'ID_VAL',\n",
    "                      'NUM_S':'SCALAR_INPUT',\n",
    "                      'RANGE_S':'RANGE_SCALAR_VALUES',\n",
    "                      'NUM_SI':'SCALAR_INDEX_INPUT',\n",
    "                      'RANGE_SI':'RANGE_SCALAR_INDEX_VALUES',\n",
    "                      'NUM_ARR':'ARRAY_INPUT',\n",
    "                      'RANGE_ARR':'RANGE_ARRAY_INPUT'}, inplace=True)"
   ]
  },
  {
   "cell_type": "code",
   "execution_count": 74,
   "metadata": {},
   "outputs": [],
   "source": [
    "dfTot.to_csv(\"TotalParameterMatrix.csv\", sep=';')"
   ]
  },
  {
   "cell_type": "code",
   "execution_count": null,
   "metadata": {},
   "outputs": [],
   "source": []
  },
  {
   "cell_type": "code",
   "execution_count": 75,
   "metadata": {},
   "outputs": [],
   "source": [
    "dfBamb = dfTot.loc[(dfTot['DEVICE'] == 'armulator')]\n",
    "dfBamb.to_csv(\"TotalParameterMatrixArmulator.csv\", sep=';')\n",
    "dfBamb = dfTot.loc[(dfTot['DEVICE'] == 'tsim')]\n",
    "dfBamb.to_csv(\"TotalParameterMatrixTsim.csv\", sep=';')\n",
    "dfBamb = dfTot.loc[(dfTot['DEVICE'] == 'simulavr')]\n",
    "dfBamb.to_csv(\"TotalParameterMatrixSimulavr.csv\", sep=';')\n",
    "dfBamb = dfTot.loc[(dfTot['DEVICE'] == 'thumbulator')]\n",
    "dfBamb.to_csv(\"TotalParameterMatrixThumbulator.csv\", sep=';')"
   ]
  },
  {
   "cell_type": "code",
   "execution_count": null,
   "metadata": {},
   "outputs": [],
   "source": []
  },
  {
   "cell_type": "code",
   "execution_count": null,
   "metadata": {},
   "outputs": [],
   "source": []
  },
  {
   "cell_type": "code",
   "execution_count": null,
   "metadata": {},
   "outputs": [],
   "source": []
  },
  {
   "cell_type": "code",
   "execution_count": null,
   "metadata": {},
   "outputs": [],
   "source": []
  },
  {
   "cell_type": "code",
   "execution_count": null,
   "metadata": {},
   "outputs": [],
   "source": []
  }
 ],
 "metadata": {
  "kernelspec": {
   "display_name": "Python 3 (ipykernel)",
   "language": "python",
   "name": "python3"
  },
  "language_info": {
   "codemirror_mode": {
    "name": "ipython",
    "version": 3
   },
   "file_extension": ".py",
   "mimetype": "text/x-python",
   "name": "python",
   "nbconvert_exporter": "python",
   "pygments_lexer": "ipython3",
   "version": "3.9.13"
  }
 },
 "nbformat": 4,
 "nbformat_minor": 4
}
