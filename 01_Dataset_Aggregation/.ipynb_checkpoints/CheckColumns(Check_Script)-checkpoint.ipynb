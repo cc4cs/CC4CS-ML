{
 "cells": [
  {
   "cell_type": "code",
   "execution_count": 1,
   "metadata": {},
   "outputs": [],
   "source": [
    "import pandas as pd\n",
    "import numpy as np\n",
    "import os\n",
    "import sys\n",
    "import ntpath"
   ]
  },
  {
   "cell_type": "code",
   "execution_count": 2,
   "metadata": {},
   "outputs": [],
   "source": [
    "dfTot = pd.read_csv(\"TotalParameterMatrix.csv\", sep=';')\n",
    "del dfTot['Unnamed: 0']"
   ]
  },
  {
   "cell_type": "code",
   "execution_count": 3,
   "metadata": {},
   "outputs": [
    {
     "name": "stdout",
     "output_type": "stream",
     "text": [
      "assemblyInstr\n",
      "clockCycles\n",
      "CC4CS\n"
     ]
    }
   ],
   "source": [
    "col = list(dfTot.columns)\n",
    "dataframe_collection = {}\n",
    "\n",
    "for i in range(0,np.size(col)):\n",
    "    a = np.where(pd.isna(dfTot[col[i]]))\n",
    "    if not (np.size(a)==0):\n",
    "        print(col[i])\n",
    "        dfPar = dfTot.iloc[a][['DEVICE','FUNCTION','DATA_TYPE',col[i]]]\n",
    "        dfPar.to_csv(\"ParMatrix\"+col[i]+\".csv\", sep=';')\n",
    "        dataframe_collection[col[i]] = dfPar"
   ]
  },
  {
   "cell_type": "code",
   "execution_count": 4,
   "metadata": {},
   "outputs": [
    {
     "name": "stdout",
     "output_type": "stream",
     "text": [
      "\n",
      "========================================\n",
      "assemblyInstr\n",
      "----------------------------------------\n",
      "     DEVICE       FUNCTION DATA_TYPE  assemblyInstr\n",
      "0     Bambu  insertionsort    int8_t            NaN\n",
      "1     Bambu  insertionsort    int8_t            NaN\n",
      "2     Bambu  insertionsort    int8_t            NaN\n",
      "3     Bambu  insertionsort    int8_t            NaN\n",
      "4     Bambu  insertionsort    int8_t            NaN\n",
      "...     ...            ...       ...            ...\n",
      "8395  Bambu  floydwarshall    int8_t            NaN\n",
      "8396  Bambu  floydwarshall    int8_t            NaN\n",
      "8397  Bambu  floydwarshall    int8_t            NaN\n",
      "8398  Bambu  floydwarshall    int8_t            NaN\n",
      "8399  Bambu  floydwarshall    int8_t            NaN\n",
      "\n",
      "[8400 rows x 4 columns]\n",
      "\n",
      "========================================\n",
      "clockCycles\n",
      "----------------------------------------\n",
      "     DEVICE   FUNCTION DATA_TYPE  clockCycles\n",
      "201   Bambu      astar    int8_t          NaN\n",
      "202   Bambu      astar    int8_t          NaN\n",
      "203   Bambu      astar    int8_t          NaN\n",
      "206   Bambu      astar    int8_t          NaN\n",
      "207   Bambu      astar    int8_t          NaN\n",
      "...     ...        ...       ...          ...\n",
      "4995  Bambu  mergesort    int8_t          NaN\n",
      "4996  Bambu  mergesort    int8_t          NaN\n",
      "4997  Bambu  mergesort    int8_t          NaN\n",
      "4998  Bambu  mergesort    int8_t          NaN\n",
      "4999  Bambu  mergesort    int8_t          NaN\n",
      "\n",
      "[251 rows x 4 columns]\n",
      "\n",
      "========================================\n",
      "CC4CS\n",
      "----------------------------------------\n",
      "     DEVICE   FUNCTION DATA_TYPE  CC4CS\n",
      "201   Bambu      astar    int8_t    NaN\n",
      "202   Bambu      astar    int8_t    NaN\n",
      "203   Bambu      astar    int8_t    NaN\n",
      "206   Bambu      astar    int8_t    NaN\n",
      "207   Bambu      astar    int8_t    NaN\n",
      "...     ...        ...       ...    ...\n",
      "4995  Bambu  mergesort    int8_t    NaN\n",
      "4996  Bambu  mergesort    int8_t    NaN\n",
      "4997  Bambu  mergesort    int8_t    NaN\n",
      "4998  Bambu  mergesort    int8_t    NaN\n",
      "4999  Bambu  mergesort    int8_t    NaN\n",
      "\n",
      "[251 rows x 4 columns]\n"
     ]
    }
   ],
   "source": [
    "for key in dataframe_collection.keys():\n",
    "    print(\"\\n\" +\"=\"*40)\n",
    "    print(key)\n",
    "    print(\"-\"*40)\n",
    "    print(dataframe_collection[key])"
   ]
  },
  {
   "cell_type": "code",
   "execution_count": null,
   "metadata": {},
   "outputs": [],
   "source": []
  }
 ],
 "metadata": {
  "kernelspec": {
   "display_name": "Python 3",
   "language": "python",
   "name": "python3"
  },
  "language_info": {
   "codemirror_mode": {
    "name": "ipython",
    "version": 3
   },
   "file_extension": ".py",
   "mimetype": "text/x-python",
   "name": "python",
   "nbconvert_exporter": "python",
   "pygments_lexer": "ipython3",
   "version": "3.6.8"
  }
 },
 "nbformat": 4,
 "nbformat_minor": 4
}
