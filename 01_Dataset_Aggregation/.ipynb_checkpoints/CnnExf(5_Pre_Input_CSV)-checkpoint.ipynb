{
 "cells": [
  {
   "cell_type": "code",
   "execution_count": 1,
   "metadata": {},
   "outputs": [],
   "source": [
    "import numpy as np\n",
    "from tensorflow import keras\n",
    "from tensorflow.keras import layers\n",
    "from numpy import genfromtxt\n",
    "\n",
    "import glob\n",
    "import json\n",
    "import os\n",
    "import numpy as np\n",
    "import pandas as pd\n",
    "import re\n",
    "import csv\n",
    "\n",
    "from os.path import basename"
   ]
  },
  {
   "cell_type": "code",
   "execution_count": 2,
   "metadata": {},
   "outputs": [],
   "source": [
    "input_shape = (28, 28, 1)\n",
    "\n",
    "model = keras.Sequential(\n",
    "    [\n",
    "        keras.Input(shape=input_shape),\n",
    "        layers.Conv2D(24, kernel_size=(12, 12), activation=\"relu\", padding=\"valid\"),\n",
    "        layers.MaxPooling2D(pool_size=(2, 2), strides=(2, 2)),\n",
    "        layers.Conv2D(8, kernel_size=(5, 5), activation=\"relu\", padding=\"valid\"),\n",
    "        layers.MaxPooling2D(pool_size=(2, 2), strides=(2, 2)),\n",
    "        layers.Flatten(),\n",
    "        #layers.Dropout(0.5),\n",
    "    ]\n",
    ")\n",
    "\n",
    "model.compile(loss=\"categorical_crossentropy\", optimizer=\"adam\", metrics=[\"accuracy\"])"
   ]
  },
  {
   "cell_type": "code",
   "execution_count": 3,
   "metadata": {},
   "outputs": [],
   "source": [
    "rootDirM = []\n",
    "\n",
    "path = os.getcwd()\n",
    "for root, dirs, files in os.walk(path):\n",
    "    for dir in dirs:\n",
    "        if dir == \"inputResumeMatrixCSV\":\n",
    "            rootDirM.append(glob.glob(root + \"/inputResumeMatrixCSV\"))        "
   ]
  },
  {
   "cell_type": "code",
   "execution_count": 4,
   "metadata": {},
   "outputs": [],
   "source": [
    "for i in range(0, len(rootDirM)):\n",
    "\n",
    "    rf = str(rootDirM[i][0]) + \"/[!Matrix]*.csv\"\n",
    "    files = glob.glob(rf)\n",
    "\n",
    "    with open(str(rootDirM[i][0]) + '/Matrix.csv', 'w', encoding='UTF8') as f:\n",
    "        writer = csv.writer(f)\n",
    "\n",
    "        for filename in files:\n",
    "            data = genfromtxt(filename, delimiter=',')\n",
    "            dataEx = np.expand_dims(data, -1)\n",
    "            dataEx2 = np.expand_dims(dataEx, 0)\n",
    "            output = model.predict(dataEx2)\n",
    "            spR = filename.split('/')[-1]\n",
    "            spR2 = spR.split(\".\")[0]\n",
    "            o = output.tolist()[0]\n",
    "            o.insert(0,spR2)\n",
    "            writer.writerow(o)"
   ]
  },
  {
   "cell_type": "code",
   "execution_count": null,
   "metadata": {},
   "outputs": [],
   "source": []
  },
  {
   "cell_type": "code",
   "execution_count": null,
   "metadata": {},
   "outputs": [],
   "source": []
  },
  {
   "cell_type": "code",
   "execution_count": 5,
   "metadata": {},
   "outputs": [
    {
     "name": "stdout",
     "output_type": "stream",
     "text": [
      "x_train shape: (60000, 28, 28, 1)\n",
      "60000 train samples\n",
      "10000 test samples\n"
     ]
    }
   ],
   "source": [
    "# Model / data parameters\n",
    "num_classes = 1600\n",
    "input_shape = (28, 28, 1)\n",
    "\n",
    "# the data, split between train and test sets\n",
    "(x_train, y_train), (x_test, y_test) = keras.datasets.mnist.load_data()\n",
    "\n",
    "# Scale images to the [0, 1] range\n",
    "x_train = x_train.astype(\"float32\") / 255\n",
    "x_test = x_test.astype(\"float32\") / 255\n",
    "# Make sure images have shape (28, 28, 1)\n",
    "x_train = np.expand_dims(x_train, -1)\n",
    "x_test = np.expand_dims(x_test, -1)\n",
    "print(\"x_train shape:\", x_train.shape)\n",
    "print(x_train.shape[0], \"train samples\")\n",
    "print(x_test.shape[0], \"test samples\")\n",
    "\n",
    "\n",
    "# convert class vectors to binary class matrices\n",
    "y_train = keras.utils.to_categorical(y_train, num_classes)\n",
    "y_test = keras.utils.to_categorical(y_test, num_classes)\n"
   ]
  },
  {
   "cell_type": "code",
   "execution_count": 6,
   "metadata": {},
   "outputs": [
    {
     "ename": "NameError",
     "evalue": "name '_train' is not defined",
     "output_type": "error",
     "traceback": [
      "\u001b[0;31m---------------------------------------------------------------------------\u001b[0m",
      "\u001b[0;31mNameError\u001b[0m                                 Traceback (most recent call last)",
      "\u001b[0;32m<ipython-input-6-d31e261026de>\u001b[0m in \u001b[0;36m<module>\u001b[0;34m\u001b[0m\n\u001b[0;32m----> 1\u001b[0;31m \u001b[0m_train\u001b[0m\u001b[0;34m.\u001b[0m\u001b[0mshape\u001b[0m\u001b[0;34m\u001b[0m\u001b[0;34m\u001b[0m\u001b[0m\n\u001b[0m",
      "\u001b[0;31mNameError\u001b[0m: name '_train' is not defined"
     ]
    }
   ],
   "source": [
    "_train.shape"
   ]
  },
  {
   "cell_type": "code",
   "execution_count": null,
   "metadata": {},
   "outputs": [],
   "source": [
    "model = keras.Sequential(\n",
    "    [\n",
    "        keras.Input(shape=input_shape),\n",
    "        layers.Conv2D(24, kernel_size=(12, 12), activation=\"relu\", padding=\"valid\"),\n",
    "        layers.MaxPooling2D(pool_size=(2, 2), strides=(2, 2)),\n",
    "        layers.Conv2D(8, kernel_size=(5, 5), activation=\"relu\", padding=\"valid\"),\n",
    "        layers.MaxPooling2D(pool_size=(2, 2), strides=(2, 2)),\n",
    "        layers.Flatten(),\n",
    "        #layers.Dropout(0.5),\n",
    "    ]\n",
    ")\n",
    "\n",
    "model.summary()\n"
   ]
  },
  {
   "cell_type": "code",
   "execution_count": null,
   "metadata": {},
   "outputs": [],
   "source": [
    "batch_size = 128\n",
    "epochs = 1\n",
    "\n",
    "model.compile(loss=\"categorical_crossentropy\", optimizer=\"adam\", metrics=[\"accuracy\"])\n",
    "\n",
    "model.fit(x_train, y_train, batch_size=batch_size, epochs=epochs, validation_split=0.1)\n"
   ]
  },
  {
   "cell_type": "code",
   "execution_count": null,
   "metadata": {},
   "outputs": [],
   "source": [
    "score = model.evaluate(x_test, y_test, verbose=0)\n",
    "print(\"Test loss:\", score[0])\n",
    "print(\"Test accuracy:\", score[1])\n"
   ]
  },
  {
   "cell_type": "code",
   "execution_count": null,
   "metadata": {},
   "outputs": [],
   "source": [
    "x_test[0].shape"
   ]
  },
  {
   "cell_type": "code",
   "execution_count": null,
   "metadata": {},
   "outputs": [],
   "source": [
    "model.predict(x_test).shape"
   ]
  },
  {
   "cell_type": "code",
   "execution_count": null,
   "metadata": {},
   "outputs": [],
   "source": [
    "model2 = keras.Sequential(\n",
    "    [\n",
    "        keras.Input(shape=input_shape),\n",
    "        layers.Conv2D(24, kernel_size=(12, 12), activation=\"relu\"),\n",
    "        layers.MaxPooling2D(pool_size=(2, 2), strides=(2, 2)),\n",
    "        layers.Conv2D(8, kernel_size=(4, 4), activation=\"relu\"),\n",
    "        layers.MaxPooling2D(pool_size=(2, 2), strides=(2, 2)),\n",
    "        layers.Flatten(),\n",
    "        #layers.Dropout(0.5),\n",
    "        #layers.Dense(num_classes, activation=\"softmax\"),\n",
    "    ]\n",
    ")\n",
    "\n",
    "model2.summary()"
   ]
  },
  {
   "cell_type": "code",
   "execution_count": null,
   "metadata": {},
   "outputs": [],
   "source": [
    "model2.predict(x_test).shape"
   ]
  },
  {
   "cell_type": "code",
   "execution_count": null,
   "metadata": {},
   "outputs": [],
   "source": []
  }
 ],
 "metadata": {
  "kernelspec": {
   "display_name": "Python 3",
   "language": "python",
   "name": "python3"
  },
  "language_info": {
   "codemirror_mode": {
    "name": "ipython",
    "version": 3
   },
   "file_extension": ".py",
   "mimetype": "text/x-python",
   "name": "python",
   "nbconvert_exporter": "python",
   "pygments_lexer": "ipython3",
   "version": "3.6.8"
  }
 },
 "nbformat": 4,
 "nbformat_minor": 5
}
